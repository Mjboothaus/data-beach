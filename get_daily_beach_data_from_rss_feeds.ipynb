{
  "cells": [
    {
      "cell_type": "markdown",
      "metadata": {
        "id": "view-in-github",
        "colab_type": "text"
      },
      "source": [
        "<a href=\"https://colab.research.google.com/github/Mjboothaus/data-beach/blob/main/get_daily_beach_data_from_rss_feeds.ipynb\" target=\"_parent\"><img src=\"https://colab.research.google.com/assets/colab-badge.svg\" alt=\"Open In Colab\"/></a>"
      ]
    },
    {
      "cell_type": "markdown",
      "metadata": {
        "id": "6DSLIDF1uTMo"
      },
      "source": [
        "## Exploring Beach water quality data RSS feed\n",
        "NSW Department of Planning, Industry and Environment\n",
        "\n",
        "See https://www.environment.nsw.gov.au/topics/water/beaches/beach-water-quality-data/beach-pollution-forecast-datafeed"
      ]
    },
    {
      "cell_type": "markdown",
      "source": [
        "## 0. Setup"
      ],
      "metadata": {
        "id": "iZmWPfD2PEYn"
      }
    },
    {
      "cell_type": "code",
      "execution_count": null,
      "metadata": {
        "id": "20ocVPm_uvN4"
      },
      "outputs": [],
      "source": [
        "!pip install feedparser"
      ]
    },
    {
      "cell_type": "code",
      "source": [
        "import pandas as pd"
      ],
      "metadata": {
        "id": "zw141A61PKoj"
      },
      "execution_count": null,
      "outputs": []
    },
    {
      "cell_type": "code",
      "execution_count": null,
      "metadata": {
        "id": "p26ZFenkuPTi"
      },
      "outputs": [],
      "source": [
        "import feedparser"
      ]
    },
    {
      "cell_type": "code",
      "source": [
        "from dataclasses import dataclass, asdict"
      ],
      "metadata": {
        "id": "uXcyZxLsTTKm"
      },
      "execution_count": null,
      "outputs": []
    },
    {
      "cell_type": "code",
      "source": [
        "@dataclass\n",
        "class BeachData:\n",
        "     name: str = \"\"\n",
        "     lat: float = 0.0\n",
        "     lon: float = 0.0\n",
        "     patrol: str = \"\"\n",
        "     water_temp: float = 0.0\n",
        "     air_temp: float = 0.0"
      ],
      "metadata": {
        "id": "jg4QGf5hTbwZ"
      },
      "execution_count": null,
      "outputs": []
    },
    {
      "cell_type": "markdown",
      "source": [
        "## 1. Get list of beaches"
      ],
      "metadata": {
        "id": "P20jtZc4OXPh"
      }
    },
    {
      "cell_type": "code",
      "source": [
        "beach_list_URL = \"https://raw.githubusercontent.com/DataBooth/beach-safe/main/data/beach_rss_list.csv\""
      ],
      "metadata": {
        "id": "nHKMY1NmOUaB"
      },
      "execution_count": null,
      "outputs": []
    },
    {
      "cell_type": "code",
      "source": [
        "beach_list_df = pd.read_csv(beach_list_URL)"
      ],
      "metadata": {
        "id": "oSJ6YpBaPReG"
      },
      "execution_count": null,
      "outputs": []
    },
    {
      "cell_type": "code",
      "source": [
        "beach_list_df"
      ],
      "metadata": {
        "id": "e8lRpyzyPa4l"
      },
      "execution_count": null,
      "outputs": []
    },
    {
      "cell_type": "code",
      "source": [
        "example_beach_rss_feed_url = beach_list_df[\"URL_PollutionReport_RSSFeed\"][0].replace(\"amp;\", \"\")"
      ],
      "metadata": {
        "id": "TVifVX-4QBpi"
      },
      "execution_count": null,
      "outputs": []
    },
    {
      "cell_type": "code",
      "source": [
        "example_beach_rss_feed_url"
      ],
      "metadata": {
        "id": "BlHyE7tpRDpV"
      },
      "execution_count": null,
      "outputs": []
    },
    {
      "cell_type": "code",
      "source": [
        "# example_beach_rss_feed_url = \"http://www.environment.nsw.gov.au/Beachapp/SingleRss.aspx?surl=%2Fbeachapp%2FSydneyBulletin.xml&title=Woolwich%20Baths\""
      ],
      "metadata": {
        "id": "cXzIynQqJc7z"
      },
      "execution_count": null,
      "outputs": []
    },
    {
      "cell_type": "code",
      "execution_count": null,
      "metadata": {
        "id": "qtRvaIvFvBbZ"
      },
      "outputs": [],
      "source": [
        "def extract_data_from_daily_feed(beach_rss_url):\n",
        "  feed = feedparser.parse(beach_rss_url)\n",
        "  beach_data = BeachData()\n",
        "  beach_data.name = feed['entries'][0]['title']\n",
        "  beach_data.patrol = feed['entries'][0]['bw_patrolinfo']\n",
        "  beach_data.water_temp = float(feed['feed']['bw_oceantemp'])\n",
        "  beach_data.air_temp = float(feed['feed']['bw_airtemp'])\n",
        "  return beach_data"
      ]
    },
    {
      "cell_type": "code",
      "source": [
        "beach_data = extract_data_from_daily_feed(example_beach_rss_feed_url);"
      ],
      "metadata": {
        "id": "mpubblwyRtyu"
      },
      "execution_count": null,
      "outputs": []
    },
    {
      "cell_type": "code",
      "source": [
        "beach_data"
      ],
      "metadata": {
        "id": "dwkdiq81XkZW"
      },
      "execution_count": null,
      "outputs": []
    },
    {
      "cell_type": "code",
      "source": [
        "asdict(beach_data)"
      ],
      "metadata": {
        "id": "yVjfsAk8ZbRo"
      },
      "execution_count": null,
      "outputs": []
    },
    {
      "cell_type": "code",
      "source": [
        ""
      ],
      "metadata": {
        "id": "K-8VywekZa9T"
      },
      "execution_count": null,
      "outputs": []
    },
    {
      "cell_type": "code",
      "source": [
        "d;"
      ],
      "metadata": {
        "id": "aMe2eRu3L7Po"
      },
      "execution_count": null,
      "outputs": []
    },
    {
      "cell_type": "code",
      "source": [
        "d['entries'][0]"
      ],
      "metadata": {
        "id": "VrNKQhIPJ3Xc"
      },
      "execution_count": null,
      "outputs": []
    },
    {
      "cell_type": "code",
      "source": [
        ""
      ],
      "metadata": {
        "id": "TtUmkk2RLCRE"
      },
      "execution_count": null,
      "outputs": []
    }
  ],
  "metadata": {
    "colab": {
      "name": "get_daily_beach_data_from_rss_feeds.ipynb",
      "private_outputs": true,
      "provenance": [],
      "collapsed_sections": [
        "6DSLIDF1uTMo"
      ],
      "include_colab_link": true
    },
    "kernelspec": {
      "display_name": "Python 3",
      "name": "python3"
    },
    "language_info": {
      "name": "python"
    }
  },
  "nbformat": 4,
  "nbformat_minor": 0
}