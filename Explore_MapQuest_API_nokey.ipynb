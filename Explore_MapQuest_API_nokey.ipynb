{
  "nbformat": 4,
  "nbformat_minor": 0,
  "metadata": {
    "colab": {
      "name": "Explore_MapQuest_API_nokey.ipynb",
      "private_outputs": true,
      "provenance": [],
      "collapsed_sections": [],
      "authorship_tag": "ABX9TyMu2op6WhIdHCn9T+FE96/g",
      "include_colab_link": true
    },
    "kernelspec": {
      "name": "python3",
      "display_name": "Python 3"
    },
    "language_info": {
      "name": "python"
    }
  },
  "cells": [
    {
      "cell_type": "markdown",
      "metadata": {
        "id": "view-in-github",
        "colab_type": "text"
      },
      "source": [
        "<a href=\"https://colab.research.google.com/github/Mjboothaus/data-beach/blob/main/Explore_MapQuest_API_nokey.ipynb\" target=\"_parent\"><img src=\"https://colab.research.google.com/assets/colab-badge.svg\" alt=\"Open In Colab\"/></a>"
      ]
    },
    {
      "cell_type": "markdown",
      "source": [
        "## Explore MapQuest API\n",
        "\n",
        "https://developer.mapquest.com/documentation/open/directions-api/route-matrix/post/\n",
        "\n",
        "You can regsiter for an API key here:\n",
        "https://developer.mapquest.com"
      ],
      "metadata": {
        "id": "WoHc7u80QGGi"
      }
    },
    {
      "cell_type": "code",
      "execution_count": null,
      "metadata": {
        "id": "XkqL3OaCQEsj"
      },
      "outputs": [],
      "source": [
        "import requests\n",
        "import json\n",
        "import pandas as pd\n",
        "from getpass import getpass"
      ]
    },
    {
      "cell_type": "code",
      "source": [
        "api_key = getpass(\"Please enter MapQuest API key:\")"
      ],
      "metadata": {
        "id": "yOdOHESWo9nM"
      },
      "execution_count": null,
      "outputs": []
    },
    {
      "cell_type": "code",
      "source": [
        "URL = \"http://open.mapquestapi.com/directions/v2/routematrix?key=KEY\"\n",
        "\n",
        "URL = URL.replace(\"KEY\", api_key)"
      ],
      "metadata": {
        "id": "FNdduV92RFN_"
      },
      "execution_count": null,
      "outputs": []
    },
    {
      "cell_type": "code",
      "source": [
        "URL"
      ],
      "metadata": {
        "id": "2ZRqPnusRSvi"
      },
      "execution_count": null,
      "outputs": []
    },
    {
      "cell_type": "code",
      "source": [
        "data = {\n",
        "    \"locations\": [\n",
        "                  \"Wrights Road Drummoyne, NSW\",\n",
        "                  \"Woolwich, NSW\",\n",
        "                  \"Hammondville, NSW\",\n",
        "                  \"Cudgee Street Turramurra, NSW\"\n",
        "                  ],\n",
        "        \"options\": \n",
        "        {\n",
        "            \"allToAll\": False\n",
        "         }\n",
        "        }\n",
        "\n",
        "headers = {}"
      ],
      "metadata": {
        "id": "7esvBsCvRKQY"
      },
      "execution_count": null,
      "outputs": []
    },
    {
      "cell_type": "code",
      "source": [
        "data_latlng = {\n",
        "    \"locations\": [\n",
        "        \"-33.850511, 151.154824\",\n",
        "        \"-33.840199, 151.171061\"\n",
        "    ],\n",
        "    \"options\": {\n",
        "        \"allToAll\": False\n",
        "    }\n",
        "}"
      ],
      "metadata": {
        "id": "fuZriY_gsUdV"
      },
      "execution_count": null,
      "outputs": []
    },
    {
      "cell_type": "code",
      "source": [
        "data_json = json.dumps(data_latlng)"
      ],
      "metadata": {
        "id": "b8nYufVjSdpP"
      },
      "execution_count": null,
      "outputs": []
    },
    {
      "cell_type": "code",
      "source": [
        "data_json"
      ],
      "metadata": {
        "id": "x5zLIhNeSsok"
      },
      "execution_count": null,
      "outputs": []
    },
    {
      "cell_type": "code",
      "source": [
        "response = requests.request(\"GET\", URL, headers=headers, data=data_json)\n",
        "\n",
        "print(response.text)"
      ],
      "metadata": {
        "id": "v6XY25T6RIym"
      },
      "execution_count": null,
      "outputs": []
    },
    {
      "cell_type": "code",
      "source": [
        "routes = json.loads(response.text)"
      ],
      "metadata": {
        "id": "0uw4xRCDS2hG"
      },
      "execution_count": null,
      "outputs": []
    },
    {
      "cell_type": "code",
      "source": [
        "routes['time']"
      ],
      "metadata": {
        "id": "CLMAkKNTp2zf"
      },
      "execution_count": null,
      "outputs": []
    },
    {
      "cell_type": "code",
      "source": [
        "[float(time)/60 for time in routes['time']]"
      ],
      "metadata": {
        "id": "lHToAGHUqR2X"
      },
      "execution_count": null,
      "outputs": []
    },
    {
      "cell_type": "code",
      "source": [
        "routes['locations']"
      ],
      "metadata": {
        "id": "bA6kKurgTLJN"
      },
      "execution_count": null,
      "outputs": []
    },
    {
      "cell_type": "code",
      "source": [
        "pd.DataFrame(routes['locations'])"
      ],
      "metadata": {
        "id": "rx4LMosOTPIx"
      },
      "execution_count": null,
      "outputs": []
    },
    {
      "cell_type": "code",
      "source": [
        "routes"
      ],
      "metadata": {
        "id": "8wC7Gz5NUFHn"
      },
      "execution_count": null,
      "outputs": []
    },
    {
      "cell_type": "code",
      "source": [
        ""
      ],
      "metadata": {
        "id": "0lsIhpSwUZPd"
      },
      "execution_count": null,
      "outputs": []
    }
  ]
}