{
  "nbformat": 4,
  "nbformat_minor": 0,
  "metadata": {
    "colab": {
      "name": "Explore_MapQuest_API_nokey.ipynb",
      "private_outputs": true,
      "provenance": [],
      "collapsed_sections": [],
      "authorship_tag": "ABX9TyPh0NGF6kYiFevEJXmmpE9+",
      "include_colab_link": true
    },
    "kernelspec": {
      "name": "python3",
      "display_name": "Python 3"
    },
    "language_info": {
      "name": "python"
    }
  },
  "cells": [
    {
      "cell_type": "markdown",
      "metadata": {
        "id": "view-in-github",
        "colab_type": "text"
      },
      "source": [
        "<a href=\"https://colab.research.google.com/github/Mjboothaus/data-beach/blob/main/Explore_MapQuest_API_nokey.ipynb\" target=\"_parent\"><img src=\"https://colab.research.google.com/assets/colab-badge.svg\" alt=\"Open In Colab\"/></a>"
      ]
    },
    {
      "cell_type": "markdown",
      "source": [
        "## Explore MapQuest API\n",
        "\n",
        "https://developer.mapquest.com/documentation/open/directions-api/route-matrix/post/"
      ],
      "metadata": {
        "id": "WoHc7u80QGGi"
      }
    },
    {
      "cell_type": "code",
      "execution_count": null,
      "metadata": {
        "id": "XkqL3OaCQEsj"
      },
      "outputs": [],
      "source": [
        "import requests\n",
        "import json\n",
        "import pandas as pd"
      ]
    },
    {
      "cell_type": "code",
      "source": [
        "URL = \"http://open.mapquestapi.com/directions/v2/routematrix?key=KEY\"\n",
        "\n",
        "API_KEY = \"TBA\"\n",
        "\n",
        "URL = URL.replace(\"KEY\", API_KEY)"
      ],
      "metadata": {
        "id": "FNdduV92RFN_"
      },
      "execution_count": null,
      "outputs": []
    },
    {
      "cell_type": "code",
      "source": [
        "URL"
      ],
      "metadata": {
        "id": "2ZRqPnusRSvi"
      },
      "execution_count": null,
      "outputs": []
    },
    {
      "cell_type": "code",
      "source": [
        "data = {\n",
        "    \"locations\": [\n",
        "                  \"42 Wrights Road Drummoyne, NSW\",\n",
        "                  \"Hammondville, NSW\",\n",
        "                  \"9 Cudgee Street Turramurra, NSW\"\n",
        "                  ],\n",
        "        \"options\": \n",
        "        {\n",
        "            \"allToAll\": False\n",
        "         }\n",
        "        }\n",
        "\n",
        "headers = {}"
      ],
      "metadata": {
        "id": "7esvBsCvRKQY"
      },
      "execution_count": null,
      "outputs": []
    },
    {
      "cell_type": "code",
      "source": [
        "data_json = json.dumps(data)"
      ],
      "metadata": {
        "id": "b8nYufVjSdpP"
      },
      "execution_count": null,
      "outputs": []
    },
    {
      "cell_type": "code",
      "source": [
        "data_json"
      ],
      "metadata": {
        "id": "x5zLIhNeSsok"
      },
      "execution_count": null,
      "outputs": []
    },
    {
      "cell_type": "code",
      "source": [
        "response = requests.request(\"GET\", URL, headers=headers, data=data_json)\n",
        "\n",
        "print(response.text)"
      ],
      "metadata": {
        "id": "v6XY25T6RIym"
      },
      "execution_count": null,
      "outputs": []
    },
    {
      "cell_type": "code",
      "source": [
        "routes = json.loads(response.text)"
      ],
      "metadata": {
        "id": "0uw4xRCDS2hG"
      },
      "execution_count": null,
      "outputs": []
    },
    {
      "cell_type": "code",
      "source": [
        "routes['locations']"
      ],
      "metadata": {
        "id": "bA6kKurgTLJN"
      },
      "execution_count": null,
      "outputs": []
    },
    {
      "cell_type": "code",
      "source": [
        "pd.DataFrame(routes['locations'])"
      ],
      "metadata": {
        "id": "rx4LMosOTPIx"
      },
      "execution_count": null,
      "outputs": []
    },
    {
      "cell_type": "code",
      "source": [
        "routes"
      ],
      "metadata": {
        "id": "8wC7Gz5NUFHn"
      },
      "execution_count": null,
      "outputs": []
    },
    {
      "cell_type": "code",
      "source": [
        ""
      ],
      "metadata": {
        "id": "0lsIhpSwUZPd"
      },
      "execution_count": null,
      "outputs": []
    }
  ]
}