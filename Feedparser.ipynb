{
  "nbformat": 4,
  "nbformat_minor": 0,
  "metadata": {
    "colab": {
      "name": "Feedparser.ipynb",
      "private_outputs": true,
      "provenance": [],
      "authorship_tag": "ABX9TyNfQ74Dm+wCSOZsNl0Yvbfz",
      "include_colab_link": true
    },
    "kernelspec": {
      "name": "python3",
      "display_name": "Python 3"
    },
    "language_info": {
      "name": "python"
    }
  },
  "cells": [
    {
      "cell_type": "markdown",
      "metadata": {
        "id": "view-in-github",
        "colab_type": "text"
      },
      "source": [
        "<a href=\"https://colab.research.google.com/github/Mjboothaus/data-beach/blob/main/Feedparser.ipynb\" target=\"_parent\"><img src=\"https://colab.research.google.com/assets/colab-badge.svg\" alt=\"Open In Colab\"/></a>"
      ]
    },
    {
      "cell_type": "markdown",
      "source": [
        "# Demo to Emme\n"
      ],
      "metadata": {
        "id": "6DSLIDF1uTMo"
      }
    },
    {
      "cell_type": "code",
      "source": [
        "!pip install feedparser"
      ],
      "metadata": {
        "id": "20ocVPm_uvN4"
      },
      "execution_count": null,
      "outputs": []
    },
    {
      "cell_type": "code",
      "execution_count": null,
      "metadata": {
        "id": "p26ZFenkuPTi"
      },
      "outputs": [],
      "source": [
        "import feedparser"
      ]
    },
    {
      "cell_type": "code",
      "source": [
        "d = feedparser.parse(\"http://www.environment.nsw.gov.au/Beachapp/SingleRss.aspx?surl=%2Fbeachapp%2FSydneyBulletin.xml&title=Woolwich%20Baths\")\n",
        "\n",
        "d['entries'][0]"
      ],
      "metadata": {
        "id": "qtRvaIvFvBbZ"
      },
      "execution_count": null,
      "outputs": []
    },
    {
      "cell_type": "code",
      "source": [
        "d['entries'][0][\"title\"]"
      ],
      "metadata": {
        "id": "lQ6k4MEovIaU"
      },
      "execution_count": null,
      "outputs": []
    },
    {
      "cell_type": "code",
      "source": [
        ""
      ],
      "metadata": {
        "id": "1Xt3TTI0vYlK"
      },
      "execution_count": null,
      "outputs": []
    }
  ]
}